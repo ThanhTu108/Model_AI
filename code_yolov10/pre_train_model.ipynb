{
 "cells": [
  {
   "cell_type": "markdown",
   "id": "a1a9c4c1",
   "metadata": {},
   "source": [
    "## Training"
   ]
  },
  {
   "cell_type": "code",
   "execution_count": 1,
   "id": "e79412c3",
   "metadata": {},
   "outputs": [],
   "source": [
    "from ultralytics import YOLOv10 \n",
    "MODEL_PATH = '../yolov10/yolov10n.pt'\n",
    "model = YOLOv10(MODEL_PATH)"
   ]
  },
  {
   "cell_type": "code",
   "execution_count": 2,
   "id": "8a8e0a71",
   "metadata": {},
   "outputs": [
    {
     "name": "stdout",
     "output_type": "stream",
     "text": [
      "YOLOv10n summary: 385 layers, 2775520 parameters, 2775504 gradients, 8.7 GFLOPs\n"
     ]
    },
    {
     "data": {
      "text/plain": [
       "(385, 2775520, 2775504, 8.741504)"
      ]
     },
     "execution_count": 2,
     "metadata": {},
     "output_type": "execute_result"
    }
   ],
   "source": [
    "model.info()"
   ]
  },
  {
   "cell_type": "code",
   "execution_count": null,
   "id": "2c902c5c",
   "metadata": {},
   "outputs": [],
   "source": [
    "Yaml_path = 'safety_helmet_dataset/data.yaml'\n"
   ]
  }
 ],
 "metadata": {
  "kernelspec": {
   "display_name": ".venv_3.10",
   "language": "python",
   "name": "python3"
  },
  "language_info": {
   "codemirror_mode": {
    "name": "ipython",
    "version": 3
   },
   "file_extension": ".py",
   "mimetype": "text/x-python",
   "name": "python",
   "nbconvert_exporter": "python",
   "pygments_lexer": "ipython3",
   "version": "3.10.9"
  }
 },
 "nbformat": 4,
 "nbformat_minor": 5
}
